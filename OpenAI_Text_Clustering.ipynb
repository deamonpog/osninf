{
 "cells": [
  {
   "cell_type": "code",
   "execution_count": 1,
   "id": "6c2c5e63-487e-475c-9a64-34eff47f7fe7",
   "metadata": {},
   "outputs": [
    {
     "data": {
      "text/plain": [
       "True"
      ]
     },
     "execution_count": 1,
     "metadata": {},
     "output_type": "execute_result"
    }
   ],
   "source": [
    "import openai\n",
    "from dotenv import load_dotenv, find_dotenv\n",
    "load_dotenv(find_dotenv(), override=True)"
   ]
  },
  {
   "cell_type": "code",
   "execution_count": 6,
   "id": "53cecf79-b9d6-4350-96a6-7d041ac77d70",
   "metadata": {},
   "outputs": [],
   "source": [
    "## libraries\n",
    "import numpy as np\n",
    "import pandas as pd\n",
    "from sklearn.manifold import TSNE\n",
    "import matplotlib\n",
    "import matplotlib.pyplot as plt\n",
    "import seaborn as sns\n",
    "import time\n",
    "import os\n",
    "\n",
    "from sklearn.cluster import KMeans\n",
    "from tqdm.notebook import tqdm\n",
    "from sklearn.metrics import silhouette_score\n"
   ]
  },
  {
   "cell_type": "code",
   "execution_count": 7,
   "id": "193c7cf0-c191-4e75-80b1-7cce15790f52",
   "metadata": {},
   "outputs": [],
   "source": [
    "# from langchain import LLMChain\n",
    "# from langchain.chat_models import ChatOpenAI\n",
    "# from langchain.embeddings.openai import OpenAIEmbeddings\n",
    "# from langchain.prompts.chat import (\n",
    "#     ChatPromptTemplate,\n",
    "#     SystemMessagePromptTemplate,\n",
    "#     HumanMessagePromptTemplate,\n",
    "# )"
   ]
  },
  {
   "cell_type": "code",
   "execution_count": 8,
   "id": "0b9d860a-189a-4cb9-ac9e-3e1bf3fdd1a6",
   "metadata": {},
   "outputs": [],
   "source": [
    "openai.api_key=os.getenv('OPENAI_API_KEY')"
   ]
  },
  {
   "cell_type": "code",
   "execution_count": null,
   "id": "4a0eabe1-13d8-4458-95b3-428dcb94e645",
   "metadata": {},
   "outputs": [],
   "source": []
  }
 ],
 "metadata": {
  "kernelspec": {
   "display_name": "Python 3 (ipykernel)",
   "language": "python",
   "name": "python3"
  },
  "language_info": {
   "codemirror_mode": {
    "name": "ipython",
    "version": 3
   },
   "file_extension": ".py",
   "mimetype": "text/x-python",
   "name": "python",
   "nbconvert_exporter": "python",
   "pygments_lexer": "ipython3",
   "version": "3.8.16"
  }
 },
 "nbformat": 4,
 "nbformat_minor": 5
}
