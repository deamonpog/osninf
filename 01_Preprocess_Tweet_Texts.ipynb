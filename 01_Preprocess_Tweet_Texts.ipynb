{
 "cells": [
  {
   "cell_type": "code",
   "execution_count": 1,
   "id": "8b8245ca-ee5d-4e27-b280-0cec6f01ff34",
   "metadata": {
    "scrolled": true,
    "tags": []
   },
   "outputs": [],
   "source": [
    "# !pip install git+https://github.com/deamonpog/gsdmm.git\n",
    "# !pip install wordcloud\n",
    "# !pip install --upgrade gensim\n",
    "# !pip install --upgrade s3fs\n",
    "# !pip install --upgrade boto3\n",
    "# !pip install --upgrade numexpr\n",
    "# !pip install --upgrade pandas"
   ]
  },
  {
   "cell_type": "code",
   "execution_count": 2,
   "id": "2bb88618-3796-4985-ab39-9c5561861230",
   "metadata": {
    "tags": []
   },
   "outputs": [],
   "source": [
    "import json\n",
    "import gzip\n",
    "import glob\n",
    "import csv\n",
    "import pandas as pd"
   ]
  },
  {
   "cell_type": "code",
   "execution_count": 3,
   "id": "a89ea2ab-ccca-44b8-9eba-fd8265822dad",
   "metadata": {
    "tags": []
   },
   "outputs": [],
   "source": [
    "from time_keeper import TimeKeeper"
   ]
  },
  {
   "cell_type": "code",
   "execution_count": 4,
   "id": "f480e8b7-15a3-41b3-ac82-b8668506c8ab",
   "metadata": {
    "tags": []
   },
   "outputs": [
    {
     "data": {
      "text/plain": [
       "29317"
      ]
     },
     "execution_count": 4,
     "metadata": {},
     "output_type": "execute_result"
    }
   ],
   "source": [
    "data_files = glob.glob(\"./cache2_data/*cache*.json.gzip\")\n",
    "data_files.sort()\n",
    "len(data_files)"
   ]
  },
  {
   "cell_type": "code",
   "execution_count": 5,
   "id": "5e0ca7f5-8c50-4827-9289-1c51a63c408e",
   "metadata": {
    "tags": []
   },
   "outputs": [],
   "source": [
    "class Maybe:\n",
    "    def __init__(self, json_object):\n",
    "        self.json_object = json_object\n",
    "        \n",
    "    def field(self, field):\n",
    "        if self.json_object is not None and type(self.json_object) is dict and field in self.json_object:\n",
    "            return Maybe(self.json_object[field])\n",
    "        return Maybe(None)\n",
    "    \n",
    "    def index(self, index):\n",
    "        if self.json_object is not None and type(self.json_object) is list and index < len(self.json_object):\n",
    "            return Maybe(self.json_object[index])\n",
    "        return Maybe(None)\n",
    "    \n",
    "    def array(self, func=lambda m: m, as_type=list):\n",
    "        if self.json_object is not None and type(self.json_object) is list:\n",
    "            return as_type([func(obj) for obj in self.json_object])\n",
    "        return []\n",
    "    \n",
    "    def value(self):\n",
    "        return self.json_object\n"
   ]
  },
  {
   "cell_type": "code",
   "execution_count": 6,
   "id": "01c2af54-947b-486b-926a-aa6418142ef2",
   "metadata": {
    "tags": []
   },
   "outputs": [],
   "source": [
    "def read_local_text_data_raw(file_path):\n",
    "    with gzip.open(file_path, 'r') as fin:\n",
    "        json_bytes = fin.read()\n",
    "    json_str = json_bytes.decode('utf-8')\n",
    "    data = json.loads(json_str)\n",
    "    return data\n",
    "\n",
    "\n",
    "def read_local_text_data_filtered(file_path):\n",
    "    with gzip.open(file_path, 'r') as fin:\n",
    "        json_bytes = fin.read()\n",
    "    json_str = json_bytes.decode('utf-8')\n",
    "    data = json.loads(json_str)\n",
    "    return Maybe(data).field(\"data\").value(), Maybe(data).field(\"includes\").field(\"places\").value(), Maybe(data).field(\"includes\").field(\"users\").value()"
   ]
  },
  {
   "cell_type": "code",
   "execution_count": 7,
   "id": "63c84c49-7dcc-4c46-9d15-b7b154bce23d",
   "metadata": {
    "tags": []
   },
   "outputs": [],
   "source": [
    "def read_tweets_and_places(in_data_files):\n",
    "    all_tweets = []\n",
    "    all_places = []\n",
    "    all_users = []\n",
    "    for data_file in in_data_files:\n",
    "        tweets, places, users = read_local_text_data_filtered(data_file)\n",
    "        if tweets is not None:\n",
    "            all_tweets.extend(tweets)\n",
    "        else:\n",
    "            print(f\"Tweets is None for {data_file}\")\n",
    "        if places is not None:\n",
    "            all_places.extend(places)\n",
    "        if users is not None:\n",
    "            all_users.extend(users)\n",
    "    place_dict = {place[\"id\"]: place[\"full_name\"] for place in all_places}\n",
    "    users = pd.DataFrame(users, dtype=str)\n",
    "    users.drop_duplicates(inplace=True)\n",
    "    users.to_csv(\"all_users_df_v5.csv\", index=False, quoting=csv.QUOTE_ALL)\n",
    "    return all_tweets, place_dict"
   ]
  },
  {
   "cell_type": "code",
   "execution_count": 8,
   "id": "07da49aa-7e3c-4b5e-b167-b0cc28cb4e21",
   "metadata": {
    "tags": []
   },
   "outputs": [
    {
     "name": "stdout",
     "output_type": "stream",
     "text": [
      "Tweets is None for ./cache2_data/querylist_cache_50_403.json.gzip\n",
      "CPU times: user 5min 21s, sys: 19 s, total: 5min 40s\n",
      "Wall time: 5min 39s\n"
     ]
    }
   ],
   "source": [
    "%%time\n",
    "tweets, places = read_tweets_and_places(data_files)"
   ]
  },
  {
   "cell_type": "code",
   "execution_count": 9,
   "id": "b1fd8e97-ea80-4eef-8e8e-c2e0ea05594c",
   "metadata": {
    "tags": []
   },
   "outputs": [
    {
     "name": "stdout",
     "output_type": "stream",
     "text": [
      "True\n"
     ]
    },
    {
     "data": {
      "text/plain": [
       "{'attachments',\n",
       " 'author_id',\n",
       " 'conversation_id',\n",
       " 'created_at',\n",
       " 'edit_history_tweet_ids',\n",
       " 'entities',\n",
       " 'geo',\n",
       " 'id',\n",
       " 'in_reply_to_user_id',\n",
       " 'public_metrics',\n",
       " 'referenced_tweets',\n",
       " 'text',\n",
       " 'withheld'}"
      ]
     },
     "execution_count": 9,
     "metadata": {},
     "output_type": "execute_result"
    }
   ],
   "source": [
    "# Should be equal to following\n",
    "expected_all_fields = {  'attachments',\n",
    "                         'author_id',\n",
    "                         'conversation_id',\n",
    "                         'created_at',\n",
    "                         'edit_history_tweet_ids',\n",
    "                         'entities',\n",
    "                         'geo',\n",
    "                         'id',\n",
    "                         'in_reply_to_user_id',\n",
    "                         'public_metrics',\n",
    "                         'referenced_tweets',\n",
    "                         'text',\n",
    "                         'withheld'  }\n",
    "possible_fields = set().union(*[set(tweet.keys()) for tweet in tweets])\n",
    "print(possible_fields == expected_all_fields)\n",
    "possible_fields"
   ]
  },
  {
   "cell_type": "code",
   "execution_count": 10,
   "id": "b4f06031-62ac-4791-b742-d53b305bc120",
   "metadata": {
    "tags": []
   },
   "outputs": [
    {
     "name": "stdout",
     "output_type": "stream",
     "text": [
      "True\n"
     ]
    },
    {
     "data": {
      "text/plain": [
       "{'author_id',\n",
       " 'conversation_id',\n",
       " 'created_at',\n",
       " 'edit_history_tweet_ids',\n",
       " 'id',\n",
       " 'public_metrics',\n",
       " 'text'}"
      ]
     },
     "execution_count": 10,
     "metadata": {},
     "output_type": "execute_result"
    }
   ],
   "source": [
    "expected_common_fields = {  'author_id',\n",
    "                             'conversation_id',\n",
    "                             'created_at',\n",
    "                             'edit_history_tweet_ids',\n",
    "                             'id',\n",
    "                             'public_metrics',\n",
    "                             'text'  }\n",
    "common_fields = possible_fields.intersection(*[set(tweet.keys()) for tweet in tweets])\n",
    "print(common_fields == expected_common_fields)\n",
    "common_fields"
   ]
  },
  {
   "cell_type": "code",
   "execution_count": 11,
   "id": "fc146471-f022-4431-95de-ca6459aca5c9",
   "metadata": {
    "scrolled": true,
    "tags": []
   },
   "outputs": [],
   "source": [
    "column_names = ['id',\n",
    "                'conversation_id',\n",
    "                'edit_history_tweet_ids',\n",
    "                'author_id',\n",
    "                'created_at',\n",
    "                'text',\n",
    "                'impression_count',\n",
    "                'like_count',\n",
    "                'quote_count',\n",
    "                'reply_count',\n",
    "                'retweet_count',\n",
    "                'quoted',\n",
    "                'replied_to',\n",
    "                'retweeted',\n",
    "                'in_reply_to_user_id',\n",
    "                'geo',\n",
    "                'mentions']\n",
    "def get_columns(tweet_json):\n",
    "    quoted = []\n",
    "    replied_to = []\n",
    "    retweeted = []\n",
    "    for ref_tweet in Maybe(tweet_json).field(\"referenced_tweets\").array():\n",
    "        if ref_tweet[\"type\"] == \"quoted\":\n",
    "            quoted.append(ref_tweet[\"id\"])\n",
    "        elif ref_tweet[\"type\"] == \"replied_to\":\n",
    "            replied_to.append(ref_tweet[\"id\"])\n",
    "        elif ref_tweet[\"type\"] == \"retweeted\":\n",
    "            retweeted.append(ref_tweet[\"id\"])\n",
    "    columns_values = [\n",
    "        # tweet always has following keys\n",
    "        tweet_json[\"id\"],\n",
    "        tweet_json[\"conversation_id\"],\n",
    "        tweet_json[\"edit_history_tweet_ids\"], # list of tweetIds\n",
    "        tweet_json[\"author_id\"],\n",
    "        tweet_json[\"created_at\"],\n",
    "        tweet_json[\"text\"],\n",
    "        tweet_json[\"public_metrics\"][\"impression_count\"],\n",
    "        tweet_json[\"public_metrics\"][\"like_count\"],\n",
    "        tweet_json[\"public_metrics\"][\"quote_count\"],\n",
    "        tweet_json[\"public_metrics\"][\"reply_count\"],\n",
    "        tweet_json[\"public_metrics\"][\"retweet_count\"],\n",
    "        # optional tweet data fields\n",
    "        str(quoted),\n",
    "        str(replied_to),\n",
    "        str(retweeted),\n",
    "        Maybe(tweet_json).field(\"in_reply_to_user_id\").value(),\n",
    "        Maybe(places).field( Maybe(tweet_json).field(\"geo\").field(\"place_id\").value() ).value(),\n",
    "        Maybe(tweet_json).field(\"entities\").field(\"mentions\").array(lambda m: m[\"id\"], str),\n",
    "        # Maybe(tweet_json).field(\"attachments\") # we dont take this field at the moment\n",
    "    ]\n",
    "    return columns_values\n"
   ]
  },
  {
   "cell_type": "code",
   "execution_count": 12,
   "id": "2c4916ec-f7d4-435d-aab0-009b41432c86",
   "metadata": {
    "tags": []
   },
   "outputs": [
    {
     "name": "stdout",
     "output_type": "stream",
     "text": [
      "(14060535, 17)\n",
      "CPU times: user 3min 21s, sys: 6.14 s, total: 3min 27s\n",
      "Wall time: 3min 27s\n"
     ]
    },
    {
     "data": {
      "text/html": [
       "<div>\n",
       "<style scoped>\n",
       "    .dataframe tbody tr th:only-of-type {\n",
       "        vertical-align: middle;\n",
       "    }\n",
       "\n",
       "    .dataframe tbody tr th {\n",
       "        vertical-align: top;\n",
       "    }\n",
       "\n",
       "    .dataframe thead th {\n",
       "        text-align: right;\n",
       "    }\n",
       "</style>\n",
       "<table border=\"1\" class=\"dataframe\">\n",
       "  <thead>\n",
       "    <tr style=\"text-align: right;\">\n",
       "      <th></th>\n",
       "      <th>id</th>\n",
       "      <th>conversation_id</th>\n",
       "      <th>edit_history_tweet_ids</th>\n",
       "      <th>author_id</th>\n",
       "      <th>created_at</th>\n",
       "      <th>text</th>\n",
       "      <th>impression_count</th>\n",
       "      <th>like_count</th>\n",
       "      <th>quote_count</th>\n",
       "      <th>reply_count</th>\n",
       "      <th>retweet_count</th>\n",
       "      <th>quoted</th>\n",
       "      <th>replied_to</th>\n",
       "      <th>retweeted</th>\n",
       "      <th>in_reply_to_user_id</th>\n",
       "      <th>geo</th>\n",
       "      <th>mentions</th>\n",
       "    </tr>\n",
       "  </thead>\n",
       "  <tbody>\n",
       "    <tr>\n",
       "      <th>0</th>\n",
       "      <td>1509757106202849291</td>\n",
       "      <td>1500971180395802633</td>\n",
       "      <td>['1509757106202849291']</td>\n",
       "      <td>1385729645740449804</td>\n",
       "      <td>2022-04-01T04:58:38.000Z</td>\n",
       "      <td>@Peroporqu_ :)</td>\n",
       "      <td>0</td>\n",
       "      <td>0</td>\n",
       "      <td>0</td>\n",
       "      <td>0</td>\n",
       "      <td>0</td>\n",
       "      <td>[]</td>\n",
       "      <td>['1500971180395802633']</td>\n",
       "      <td>[]</td>\n",
       "      <td>1500536286591033351</td>\n",
       "      <td>None</td>\n",
       "      <td>['1500536286591033351']</td>\n",
       "    </tr>\n",
       "    <tr>\n",
       "      <th>1</th>\n",
       "      <td>1509756641117319168</td>\n",
       "      <td>1509756641117319168</td>\n",
       "      <td>['1509756641117319168']</td>\n",
       "      <td>4501930040</td>\n",
       "      <td>2022-04-01T04:56:47.000Z</td>\n",
       "      <td>RT @purpleluvrain: @jlints58 love it dear swee...</td>\n",
       "      <td>0</td>\n",
       "      <td>0</td>\n",
       "      <td>0</td>\n",
       "      <td>0</td>\n",
       "      <td>1</td>\n",
       "      <td>[]</td>\n",
       "      <td>[]</td>\n",
       "      <td>['1509404114555334659']</td>\n",
       "      <td>None</td>\n",
       "      <td>None</td>\n",
       "      <td>['781947948934369280', '4501930040']</td>\n",
       "    </tr>\n",
       "    <tr>\n",
       "      <th>2</th>\n",
       "      <td>1509756540265414656</td>\n",
       "      <td>1509732884608860161</td>\n",
       "      <td>['1509756540265414656']</td>\n",
       "      <td>28729354</td>\n",
       "      <td>2022-04-01T04:56:23.000Z</td>\n",
       "      <td>@StephanieNTX @dfwhispanic @Raquel_AmparoTV @S...</td>\n",
       "      <td>0</td>\n",
       "      <td>0</td>\n",
       "      <td>0</td>\n",
       "      <td>0</td>\n",
       "      <td>0</td>\n",
       "      <td>[]</td>\n",
       "      <td>['1509743982724595715']</td>\n",
       "      <td>[]</td>\n",
       "      <td>3173688997</td>\n",
       "      <td>None</td>\n",
       "      <td>['3173688997', '761051', '402718868', '7663422...</td>\n",
       "    </tr>\n",
       "    <tr>\n",
       "      <th>3</th>\n",
       "      <td>1509756323231002627</td>\n",
       "      <td>1507144019482083339</td>\n",
       "      <td>['1509756323231002627']</td>\n",
       "      <td>4501930040</td>\n",
       "      <td>2022-04-01T04:55:32.000Z</td>\n",
       "      <td>@SFDamnPodcast @alvatabitha I've been wonderin...</td>\n",
       "      <td>0</td>\n",
       "      <td>0</td>\n",
       "      <td>0</td>\n",
       "      <td>0</td>\n",
       "      <td>0</td>\n",
       "      <td>[]</td>\n",
       "      <td>['1509402710470103044']</td>\n",
       "      <td>[]</td>\n",
       "      <td>1248074962377699328</td>\n",
       "      <td>None</td>\n",
       "      <td>['1248074962377699328', '66141034']</td>\n",
       "    </tr>\n",
       "    <tr>\n",
       "      <th>4</th>\n",
       "      <td>1509756190716096512</td>\n",
       "      <td>1509756190716096512</td>\n",
       "      <td>['1509756190716096512']</td>\n",
       "      <td>4501930040</td>\n",
       "      <td>2022-04-01T04:55:00.000Z</td>\n",
       "      <td>RT @SFDamnPodcast: @alvatabitha @jlints58 a gr...</td>\n",
       "      <td>0</td>\n",
       "      <td>0</td>\n",
       "      <td>0</td>\n",
       "      <td>0</td>\n",
       "      <td>1</td>\n",
       "      <td>[]</td>\n",
       "      <td>[]</td>\n",
       "      <td>['1509402710470103044']</td>\n",
       "      <td>None</td>\n",
       "      <td>None</td>\n",
       "      <td>['1248074962377699328', '66141034', '4501930040']</td>\n",
       "    </tr>\n",
       "    <tr>\n",
       "      <th>...</th>\n",
       "      <td>...</td>\n",
       "      <td>...</td>\n",
       "      <td>...</td>\n",
       "      <td>...</td>\n",
       "      <td>...</td>\n",
       "      <td>...</td>\n",
       "      <td>...</td>\n",
       "      <td>...</td>\n",
       "      <td>...</td>\n",
       "      <td>...</td>\n",
       "      <td>...</td>\n",
       "      <td>...</td>\n",
       "      <td>...</td>\n",
       "      <td>...</td>\n",
       "      <td>...</td>\n",
       "      <td>...</td>\n",
       "      <td>...</td>\n",
       "    </tr>\n",
       "    <tr>\n",
       "      <th>14060530</th>\n",
       "      <td>1465918181088710659</td>\n",
       "      <td>1465918181088710659</td>\n",
       "      <td>['1465918181088710659']</td>\n",
       "      <td>25444322</td>\n",
       "      <td>2021-12-01T05:38:24.000Z</td>\n",
       "      <td>#GetVaccinated https://t.co/MHvXKKv5Fv</td>\n",
       "      <td>0</td>\n",
       "      <td>0</td>\n",
       "      <td>0</td>\n",
       "      <td>0</td>\n",
       "      <td>0</td>\n",
       "      <td>['1465701709112434693']</td>\n",
       "      <td>[]</td>\n",
       "      <td>[]</td>\n",
       "      <td>None</td>\n",
       "      <td>Union City, CA</td>\n",
       "      <td>[]</td>\n",
       "    </tr>\n",
       "    <tr>\n",
       "      <th>14060531</th>\n",
       "      <td>1465918067775447045</td>\n",
       "      <td>1465918067775447045</td>\n",
       "      <td>['1465918067775447045']</td>\n",
       "      <td>25444322</td>\n",
       "      <td>2021-12-01T05:37:57.000Z</td>\n",
       "      <td>RT @UncvrngTheTruth: Jim Jordan said Biden thi...</td>\n",
       "      <td>0</td>\n",
       "      <td>0</td>\n",
       "      <td>0</td>\n",
       "      <td>0</td>\n",
       "      <td>358</td>\n",
       "      <td>[]</td>\n",
       "      <td>[]</td>\n",
       "      <td>['1465487354546638853']</td>\n",
       "      <td>None</td>\n",
       "      <td>None</td>\n",
       "      <td>[]</td>\n",
       "    </tr>\n",
       "    <tr>\n",
       "      <th>14060532</th>\n",
       "      <td>1465914960844705794</td>\n",
       "      <td>1465803774291677187</td>\n",
       "      <td>['1465914960844705794']</td>\n",
       "      <td>40091601</td>\n",
       "      <td>2021-12-01T05:25:36.000Z</td>\n",
       "      <td>@SoCassandra another family star</td>\n",
       "      <td>0</td>\n",
       "      <td>0</td>\n",
       "      <td>0</td>\n",
       "      <td>0</td>\n",
       "      <td>0</td>\n",
       "      <td>[]</td>\n",
       "      <td>['1465803774291677187']</td>\n",
       "      <td>[]</td>\n",
       "      <td>48928145</td>\n",
       "      <td>None</td>\n",
       "      <td>['48928145']</td>\n",
       "    </tr>\n",
       "    <tr>\n",
       "      <th>14060533</th>\n",
       "      <td>1465914356332326914</td>\n",
       "      <td>1465914290435772417</td>\n",
       "      <td>['1465914356332326914']</td>\n",
       "      <td>40091601</td>\n",
       "      <td>2021-12-01T05:23:12.000Z</td>\n",
       "      <td>@dmschmeyer *saves*</td>\n",
       "      <td>0</td>\n",
       "      <td>0</td>\n",
       "      <td>0</td>\n",
       "      <td>0</td>\n",
       "      <td>0</td>\n",
       "      <td>[]</td>\n",
       "      <td>['1465914290435772417']</td>\n",
       "      <td>[]</td>\n",
       "      <td>732409522778742784</td>\n",
       "      <td>None</td>\n",
       "      <td>['732409522778742784']</td>\n",
       "    </tr>\n",
       "    <tr>\n",
       "      <th>14060534</th>\n",
       "      <td>1465909697727242245</td>\n",
       "      <td>1465909697727242245</td>\n",
       "      <td>['1465909697727242245']</td>\n",
       "      <td>17448914</td>\n",
       "      <td>2021-12-01T05:04:41.000Z</td>\n",
       "      <td>RT @DeathMetalV: The true war on Christmas is ...</td>\n",
       "      <td>0</td>\n",
       "      <td>0</td>\n",
       "      <td>0</td>\n",
       "      <td>0</td>\n",
       "      <td>2365</td>\n",
       "      <td>[]</td>\n",
       "      <td>[]</td>\n",
       "      <td>['1465782968144863233']</td>\n",
       "      <td>None</td>\n",
       "      <td>None</td>\n",
       "      <td>['711027816']</td>\n",
       "    </tr>\n",
       "  </tbody>\n",
       "</table>\n",
       "<p>14060535 rows × 17 columns</p>\n",
       "</div>"
      ],
      "text/plain": [
       "                           id      conversation_id   edit_history_tweet_ids  \\\n",
       "0         1509757106202849291  1500971180395802633  ['1509757106202849291']   \n",
       "1         1509756641117319168  1509756641117319168  ['1509756641117319168']   \n",
       "2         1509756540265414656  1509732884608860161  ['1509756540265414656']   \n",
       "3         1509756323231002627  1507144019482083339  ['1509756323231002627']   \n",
       "4         1509756190716096512  1509756190716096512  ['1509756190716096512']   \n",
       "...                       ...                  ...                      ...   \n",
       "14060530  1465918181088710659  1465918181088710659  ['1465918181088710659']   \n",
       "14060531  1465918067775447045  1465918067775447045  ['1465918067775447045']   \n",
       "14060532  1465914960844705794  1465803774291677187  ['1465914960844705794']   \n",
       "14060533  1465914356332326914  1465914290435772417  ['1465914356332326914']   \n",
       "14060534  1465909697727242245  1465909697727242245  ['1465909697727242245']   \n",
       "\n",
       "                    author_id                created_at  \\\n",
       "0         1385729645740449804  2022-04-01T04:58:38.000Z   \n",
       "1                  4501930040  2022-04-01T04:56:47.000Z   \n",
       "2                    28729354  2022-04-01T04:56:23.000Z   \n",
       "3                  4501930040  2022-04-01T04:55:32.000Z   \n",
       "4                  4501930040  2022-04-01T04:55:00.000Z   \n",
       "...                       ...                       ...   \n",
       "14060530             25444322  2021-12-01T05:38:24.000Z   \n",
       "14060531             25444322  2021-12-01T05:37:57.000Z   \n",
       "14060532             40091601  2021-12-01T05:25:36.000Z   \n",
       "14060533             40091601  2021-12-01T05:23:12.000Z   \n",
       "14060534             17448914  2021-12-01T05:04:41.000Z   \n",
       "\n",
       "                                                       text impression_count  \\\n",
       "0                                            @Peroporqu_ :)                0   \n",
       "1         RT @purpleluvrain: @jlints58 love it dear swee...                0   \n",
       "2         @StephanieNTX @dfwhispanic @Raquel_AmparoTV @S...                0   \n",
       "3         @SFDamnPodcast @alvatabitha I've been wonderin...                0   \n",
       "4         RT @SFDamnPodcast: @alvatabitha @jlints58 a gr...                0   \n",
       "...                                                     ...              ...   \n",
       "14060530             #GetVaccinated https://t.co/MHvXKKv5Fv                0   \n",
       "14060531  RT @UncvrngTheTruth: Jim Jordan said Biden thi...                0   \n",
       "14060532                   @SoCassandra another family star                0   \n",
       "14060533                                @dmschmeyer *saves*                0   \n",
       "14060534  RT @DeathMetalV: The true war on Christmas is ...                0   \n",
       "\n",
       "         like_count quote_count reply_count retweet_count  \\\n",
       "0                 0           0           0             0   \n",
       "1                 0           0           0             1   \n",
       "2                 0           0           0             0   \n",
       "3                 0           0           0             0   \n",
       "4                 0           0           0             1   \n",
       "...             ...         ...         ...           ...   \n",
       "14060530          0           0           0             0   \n",
       "14060531          0           0           0           358   \n",
       "14060532          0           0           0             0   \n",
       "14060533          0           0           0             0   \n",
       "14060534          0           0           0          2365   \n",
       "\n",
       "                           quoted               replied_to  \\\n",
       "0                              []  ['1500971180395802633']   \n",
       "1                              []                       []   \n",
       "2                              []  ['1509743982724595715']   \n",
       "3                              []  ['1509402710470103044']   \n",
       "4                              []                       []   \n",
       "...                           ...                      ...   \n",
       "14060530  ['1465701709112434693']                       []   \n",
       "14060531                       []                       []   \n",
       "14060532                       []  ['1465803774291677187']   \n",
       "14060533                       []  ['1465914290435772417']   \n",
       "14060534                       []                       []   \n",
       "\n",
       "                        retweeted  in_reply_to_user_id             geo  \\\n",
       "0                              []  1500536286591033351            None   \n",
       "1         ['1509404114555334659']                 None            None   \n",
       "2                              []           3173688997            None   \n",
       "3                              []  1248074962377699328            None   \n",
       "4         ['1509402710470103044']                 None            None   \n",
       "...                           ...                  ...             ...   \n",
       "14060530                       []                 None  Union City, CA   \n",
       "14060531  ['1465487354546638853']                 None            None   \n",
       "14060532                       []             48928145            None   \n",
       "14060533                       []   732409522778742784            None   \n",
       "14060534  ['1465782968144863233']                 None            None   \n",
       "\n",
       "                                                   mentions  \n",
       "0                                   ['1500536286591033351']  \n",
       "1                      ['781947948934369280', '4501930040']  \n",
       "2         ['3173688997', '761051', '402718868', '7663422...  \n",
       "3                       ['1248074962377699328', '66141034']  \n",
       "4         ['1248074962377699328', '66141034', '4501930040']  \n",
       "...                                                     ...  \n",
       "14060530                                                 []  \n",
       "14060531                                                 []  \n",
       "14060532                                       ['48928145']  \n",
       "14060533                             ['732409522778742784']  \n",
       "14060534                                      ['711027816']  \n",
       "\n",
       "[14060535 rows x 17 columns]"
      ]
     },
     "execution_count": 12,
     "metadata": {},
     "output_type": "execute_result"
    }
   ],
   "source": [
    "%%time\n",
    "tdf = pd.DataFrame([get_columns(tw) for tw in tweets],  columns=column_names, dtype=str)\n",
    "print(tdf.shape)\n",
    "tdf"
   ]
  },
  {
   "cell_type": "code",
   "execution_count": 13,
   "id": "24f8192a-be39-45f8-8e91-619619599073",
   "metadata": {
    "tags": []
   },
   "outputs": [
    {
     "name": "stdout",
     "output_type": "stream",
     "text": [
      "CPU times: user 2min 7s, sys: 3.43 s, total: 2min 10s\n",
      "Wall time: 2min 10s\n"
     ]
    }
   ],
   "source": [
    "%%time\n",
    "import csv\n",
    "tdf.to_csv(\"all_data_raw_df_v5.csv\", index=False, quoting=csv.QUOTE_ALL)"
   ]
  },
  {
   "cell_type": "code",
   "execution_count": 14,
   "id": "668ce44e-4d95-4786-a899-62a29ffee5c0",
   "metadata": {
    "tags": []
   },
   "outputs": [
    {
     "name": "stdout",
     "output_type": "stream",
     "text": [
      "CPU times: user 46.9 s, sys: 1.27 s, total: 48.1 s\n",
      "Wall time: 48.3 s\n"
     ]
    }
   ],
   "source": [
    "%%time\n",
    "tdf[\"text\"].to_csv(\"all_text_list_v5.csv\" , header=False, index=False, quoting=csv.QUOTE_ALL)"
   ]
  },
  {
   "cell_type": "code",
   "execution_count": 15,
   "id": "a80d62d3-6c4d-4674-8ccd-9f0f826d80c2",
   "metadata": {
    "tags": []
   },
   "outputs": [],
   "source": [
    "# %%time\n",
    "# tdf.drop_duplicates(subset=\"id\", inplace=True)\n",
    "# print(tdf.shape)\n",
    "# tdf.set_index(\"id\", inplace=True)\n",
    "# tdf[\"created_at\"] = tdf[\"created_at\"].apply(lambda x: datetime.datetime.strptime(x, \"%Y-%m-%dT%H:%M:%S.%f%z\"))\n",
    "# tdf.sort_values(\"created_at\", inplace=True)\n",
    "# tdf"
   ]
  },
  {
   "cell_type": "code",
   "execution_count": 16,
   "id": "17a06db0-d0dc-4530-a815-3d9d5d23ecad",
   "metadata": {
    "tags": []
   },
   "outputs": [],
   "source": [
    "# tdf.shape"
   ]
  },
  {
   "cell_type": "code",
   "execution_count": 17,
   "id": "d5695723-870f-4702-a721-44b1ab9829b2",
   "metadata": {
    "tags": []
   },
   "outputs": [],
   "source": [
    "# %%time\n",
    "# tdf.to_csv(\"all_data_df_v5.csv\")"
   ]
  },
  {
   "cell_type": "code",
   "execution_count": null,
   "id": "98fc13d0-79bc-4e82-b883-698343f323bf",
   "metadata": {},
   "outputs": [],
   "source": []
  }
 ],
 "metadata": {
  "kernelspec": {
   "display_name": "conda_python3",
   "language": "python",
   "name": "conda_python3"
  },
  "language_info": {
   "codemirror_mode": {
    "name": "ipython",
    "version": 3
   },
   "file_extension": ".py",
   "mimetype": "text/x-python",
   "name": "python",
   "nbconvert_exporter": "python",
   "pygments_lexer": "ipython3",
   "version": "3.10.13"
  }
 },
 "nbformat": 4,
 "nbformat_minor": 5
}
