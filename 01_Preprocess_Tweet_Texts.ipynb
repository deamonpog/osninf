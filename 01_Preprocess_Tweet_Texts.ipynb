{
 "cells": [
  {
   "cell_type": "code",
   "execution_count": 1,
   "id": "8b8245ca-ee5d-4e27-b280-0cec6f01ff34",
   "metadata": {
    "scrolled": true,
    "tags": []
   },
   "outputs": [],
   "source": [
    "# !pip install git+https://github.com/deamonpog/gsdmm.git\n",
    "# !pip install wordcloud\n",
    "# !pip install --upgrade gensim\n",
    "# !pip install --upgrade s3fs\n",
    "# !pip install --upgrade boto3\n",
    "# !pip install --upgrade numexpr\n",
    "# !pip install --upgrade pandas"
   ]
  },
  {
   "cell_type": "code",
   "execution_count": 2,
   "id": "2bb88618-3796-4985-ab39-9c5561861230",
   "metadata": {
    "tags": []
   },
   "outputs": [],
   "source": [
    "import string\n",
    "import re\n",
    "import html\n",
    "import json\n",
    "import gzip\n",
    "import datetime\n",
    "import itertools\n",
    "import glob\n",
    "import numpy as np\n",
    "import pandas as pd\n",
    "\n",
    "from wordcloud import WordCloud\n",
    "\n",
    "import matplotlib.pyplot as plt"
   ]
  },
  {
   "cell_type": "code",
   "execution_count": 3,
   "id": "618e628c-4f74-4a25-a969-d6768d6fb286",
   "metadata": {
    "tags": []
   },
   "outputs": [],
   "source": [
    "import gensim\n",
    "from gsdmm import MovieGroupProcess"
   ]
  },
  {
   "cell_type": "code",
   "execution_count": 4,
   "id": "41a93025-b94e-4d2d-bdb2-a698d3f17a96",
   "metadata": {
    "tags": []
   },
   "outputs": [
    {
     "name": "stderr",
     "output_type": "stream",
     "text": [
      "[nltk_data] Downloading package wordnet to /home/ec2-user/nltk_data...\n",
      "[nltk_data]   Package wordnet is already up-to-date!\n",
      "[nltk_data] Downloading package omw-1.4 to /home/ec2-user/nltk_data...\n",
      "[nltk_data]   Package omw-1.4 is already up-to-date!\n",
      "[nltk_data] Downloading package punkt to /home/ec2-user/nltk_data...\n",
      "[nltk_data]   Package punkt is already up-to-date!\n",
      "[nltk_data] Downloading package averaged_perceptron_tagger to\n",
      "[nltk_data]     /home/ec2-user/nltk_data...\n",
      "[nltk_data]   Package averaged_perceptron_tagger is already up-to-\n",
      "[nltk_data]       date!\n",
      "[nltk_data] Downloading package tagsets to /home/ec2-user/nltk_data...\n",
      "[nltk_data]   Package tagsets is already up-to-date!\n",
      "[nltk_data] Downloading package stopwords to\n",
      "[nltk_data]     /home/ec2-user/nltk_data...\n",
      "[nltk_data]   Package stopwords is already up-to-date!\n"
     ]
    },
    {
     "data": {
      "text/plain": [
       "True"
      ]
     },
     "execution_count": 4,
     "metadata": {},
     "output_type": "execute_result"
    }
   ],
   "source": [
    "import nltk\n",
    "\n",
    "from nltk.stem import WordNetLemmatizer\n",
    "nltk.download(\"wordnet\")\n",
    "nltk.download(\"omw-1.4\")\n",
    "\n",
    "# punctuation\n",
    "nltk.download(\"punkt\")\n",
    "\n",
    "# pos tagging\n",
    "nltk.download('averaged_perceptron_tagger')\n",
    "nltk.download('tagsets')\n",
    "\n",
    "from nltk.tokenize import word_tokenize\n",
    "\n",
    "from nltk.corpus import stopwords \n",
    "nltk.download('stopwords')"
   ]
  },
  {
   "cell_type": "code",
   "execution_count": 5,
   "id": "0810860b-e7dc-44fe-bad4-f263f1233dff",
   "metadata": {
    "tags": []
   },
   "outputs": [],
   "source": [
    "# s3 specific libraries\n",
    "import boto3\n",
    "s3 = boto3.resource(\"s3\")\n",
    "\n",
    "import s3fs\n",
    "s3fs = s3fs.S3FileSystem(anon=False)\n",
    "\n",
    "# data is at s3://mips-main-tests/chathura_tests/cache2/*cache*.json.gzip"
   ]
  },
  {
   "cell_type": "code",
   "execution_count": 6,
   "id": "a89ea2ab-ccca-44b8-9eba-fd8265822dad",
   "metadata": {
    "tags": []
   },
   "outputs": [],
   "source": [
    "from time_keeper import TimeKeeper"
   ]
  },
  {
   "cell_type": "code",
   "execution_count": 7,
   "id": "5be21abf-fbcf-48f6-af4f-3937f1cab486",
   "metadata": {
    "tags": []
   },
   "outputs": [],
   "source": [
    "english_stop_words = set(stopwords.words('english'))"
   ]
  },
  {
   "cell_type": "code",
   "execution_count": 8,
   "id": "f480e8b7-15a3-41b3-ac82-b8668506c8ab",
   "metadata": {
    "tags": []
   },
   "outputs": [
    {
     "data": {
      "text/plain": [
       "29317"
      ]
     },
     "execution_count": 8,
     "metadata": {},
     "output_type": "execute_result"
    }
   ],
   "source": [
    "data_files = glob.glob(\"./cache2_data/*cache*.json.gzip\")\n",
    "data_files.sort()\n",
    "len(data_files)"
   ]
  },
  {
   "cell_type": "code",
   "execution_count": 9,
   "id": "5e0ca7f5-8c50-4827-9289-1c51a63c408e",
   "metadata": {
    "tags": []
   },
   "outputs": [],
   "source": [
    "class Maybe:\n",
    "    def __init__(self, json_object):\n",
    "        self.json_object = json_object\n",
    "        \n",
    "    def field(self, field):\n",
    "        if self.json_object is not None and type(self.json_object) is dict and field in self.json_object:\n",
    "            return Maybe(self.json_object[field])\n",
    "        return Maybe(None)\n",
    "    \n",
    "    def index(self, index):\n",
    "        if self.json_object is not None and type(self.json_object) is list and index < len(self.json_object):\n",
    "            return Maybe(self.json_object[index])\n",
    "        return Maybe(None)\n",
    "    \n",
    "    def array(self, func=lambda m: m, as_type=list):\n",
    "        if self.json_object is not None and type(self.json_object) is list:\n",
    "            return as_type([func(obj) for obj in self.json_object])\n",
    "        return []\n",
    "    \n",
    "    def value(self):\n",
    "        return self.json_object\n"
   ]
  },
  {
   "cell_type": "code",
   "execution_count": 10,
   "id": "01c2af54-947b-486b-926a-aa6418142ef2",
   "metadata": {
    "tags": []
   },
   "outputs": [],
   "source": [
    "def read_local_text_data_raw(file_path):\n",
    "    with gzip.open(file_path, 'r') as fin:\n",
    "        json_bytes = fin.read()\n",
    "    json_str = json_bytes.decode('utf-8')\n",
    "    data = json.loads(json_str)\n",
    "    return data\n",
    "\n",
    "\n",
    "def read_local_text_data_filtered(file_path):\n",
    "    with gzip.open(file_path, 'r') as fin:\n",
    "        json_bytes = fin.read()\n",
    "    json_str = json_bytes.decode('utf-8')\n",
    "    data = json.loads(json_str)\n",
    "    return Maybe(data).field(\"data\").value(), Maybe(data).field(\"includes\").field(\"places\").value()"
   ]
  },
  {
   "cell_type": "code",
   "execution_count": 11,
   "id": "e59a9905-2eeb-4367-831e-faf8f25a5384",
   "metadata": {
    "tags": []
   },
   "outputs": [],
   "source": [
    "np.random.seed(123)"
   ]
  },
  {
   "cell_type": "code",
   "execution_count": 12,
   "id": "63c84c49-7dcc-4c46-9d15-b7b154bce23d",
   "metadata": {
    "tags": []
   },
   "outputs": [],
   "source": [
    "def read_tweets_and_places(in_data_files):\n",
    "    all_tweets = []\n",
    "    all_places = []\n",
    "    for data_file in in_data_files:\n",
    "        tweets, places = read_local_text_data_filtered(data_file)\n",
    "        if tweets is not None:\n",
    "            all_tweets.extend(tweets)\n",
    "        else:\n",
    "            print(f\"Tweets is None for {data_file}\")\n",
    "        if places is not None:\n",
    "            all_places.extend(places)\n",
    "    place_dict = {place[\"id\"]: place[\"full_name\"] for place in all_places}\n",
    "    return all_tweets, place_dict"
   ]
  },
  {
   "cell_type": "code",
   "execution_count": 13,
   "id": "07da49aa-7e3c-4b5e-b167-b0cc28cb4e21",
   "metadata": {
    "tags": []
   },
   "outputs": [
    {
     "name": "stdout",
     "output_type": "stream",
     "text": [
      "Tweets is None for ./cache2_data/querylist_cache_50_403.json.gzip\n",
      "CPU times: user 5min 32s, sys: 18 s, total: 5min 50s\n",
      "Wall time: 22min 7s\n"
     ]
    }
   ],
   "source": [
    "%%time\n",
    "tweets, places = read_tweets_and_places(data_files)"
   ]
  },
  {
   "cell_type": "code",
   "execution_count": 14,
   "id": "b1fd8e97-ea80-4eef-8e8e-c2e0ea05594c",
   "metadata": {
    "tags": []
   },
   "outputs": [
    {
     "name": "stdout",
     "output_type": "stream",
     "text": [
      "True\n"
     ]
    },
    {
     "data": {
      "text/plain": [
       "{'attachments',\n",
       " 'author_id',\n",
       " 'conversation_id',\n",
       " 'created_at',\n",
       " 'edit_history_tweet_ids',\n",
       " 'entities',\n",
       " 'geo',\n",
       " 'id',\n",
       " 'in_reply_to_user_id',\n",
       " 'public_metrics',\n",
       " 'referenced_tweets',\n",
       " 'text',\n",
       " 'withheld'}"
      ]
     },
     "execution_count": 14,
     "metadata": {},
     "output_type": "execute_result"
    }
   ],
   "source": [
    "# Should be equal to following\n",
    "expected_all_fields = {  'attachments',\n",
    "                         'author_id',\n",
    "                         'conversation_id',\n",
    "                         'created_at',\n",
    "                         'edit_history_tweet_ids',\n",
    "                         'entities',\n",
    "                         'geo',\n",
    "                         'id',\n",
    "                         'in_reply_to_user_id',\n",
    "                         'public_metrics',\n",
    "                         'referenced_tweets',\n",
    "                         'text',\n",
    "                         'withheld'  }\n",
    "possible_fields = set().union(*[set(tweet.keys()) for tweet in tweets])\n",
    "print(possible_fields == expected_all_fields)\n",
    "possible_fields"
   ]
  },
  {
   "cell_type": "code",
   "execution_count": 15,
   "id": "b4f06031-62ac-4791-b742-d53b305bc120",
   "metadata": {
    "tags": []
   },
   "outputs": [
    {
     "name": "stdout",
     "output_type": "stream",
     "text": [
      "True\n"
     ]
    },
    {
     "data": {
      "text/plain": [
       "{'author_id',\n",
       " 'conversation_id',\n",
       " 'created_at',\n",
       " 'edit_history_tweet_ids',\n",
       " 'id',\n",
       " 'public_metrics',\n",
       " 'text'}"
      ]
     },
     "execution_count": 15,
     "metadata": {},
     "output_type": "execute_result"
    }
   ],
   "source": [
    "expected_common_fields = {  'author_id',\n",
    "                             'conversation_id',\n",
    "                             'created_at',\n",
    "                             'edit_history_tweet_ids',\n",
    "                             'id',\n",
    "                             'public_metrics',\n",
    "                             'text'  }\n",
    "common_fields = possible_fields.intersection(*[set(tweet.keys()) for tweet in tweets])\n",
    "print(common_fields == expected_common_fields)\n",
    "common_fields"
   ]
  },
  {
   "cell_type": "code",
   "execution_count": 16,
   "id": "fc146471-f022-4431-95de-ca6459aca5c9",
   "metadata": {
    "scrolled": true,
    "tags": []
   },
   "outputs": [],
   "source": [
    "column_names = ['id',\n",
    "                'conversation_id',\n",
    "                'edit_history_tweet_ids',\n",
    "                'author_id',\n",
    "                'created_at',\n",
    "                'text',\n",
    "                'impression_count',\n",
    "                'like_count',\n",
    "                'quote_count',\n",
    "                'reply_count',\n",
    "                'retweet_count',\n",
    "                'quoted',\n",
    "                'replied_to',\n",
    "                'retweeted',\n",
    "                'in_reply_to_user_id',\n",
    "                'geo',\n",
    "                'mentions']\n",
    "def get_columns(tweet_json):\n",
    "    quoted = []\n",
    "    replied_to = []\n",
    "    retweeted = []\n",
    "    for ref_tweet in Maybe(tweet_json).field(\"referenced_tweets\").array():\n",
    "        if ref_tweet[\"type\"] == \"quoted\":\n",
    "            quoted.append(ref_tweet[\"id\"])\n",
    "        elif ref_tweet[\"type\"] == \"replied_to\":\n",
    "            replied_to.append(ref_tweet[\"id\"])\n",
    "        elif ref_tweet[\"type\"] == \"retweeted\":\n",
    "            retweeted.append(ref_tweet[\"id\"])\n",
    "    columns_values = [\n",
    "        # tweet always has following keys\n",
    "        tweet_json[\"id\"],\n",
    "        tweet_json[\"conversation_id\"],\n",
    "        tweet_json[\"edit_history_tweet_ids\"], # list of tweetIds\n",
    "        tweet_json[\"author_id\"],\n",
    "        tweet_json[\"created_at\"],\n",
    "        tweet_json[\"text\"],\n",
    "        tweet_json[\"public_metrics\"][\"impression_count\"],\n",
    "        tweet_json[\"public_metrics\"][\"like_count\"],\n",
    "        tweet_json[\"public_metrics\"][\"quote_count\"],\n",
    "        tweet_json[\"public_metrics\"][\"reply_count\"],\n",
    "        tweet_json[\"public_metrics\"][\"retweet_count\"],\n",
    "        # optional tweet data fields\n",
    "        str(quoted),\n",
    "        str(replied_to),\n",
    "        str(retweeted),\n",
    "        Maybe(tweet_json).field(\"in_reply_to_user_id\").value(),\n",
    "        Maybe(places).field( Maybe(tweet_json).field(\"geo\").field(\"place_id\").value() ).value(),\n",
    "        Maybe(tweet_json).field(\"entities\").field(\"mentions\").array(lambda m: m[\"id\"], str),\n",
    "        # Maybe(tweet_json).field(\"attachments\") # we dont take this field at the moment\n",
    "    ]\n",
    "    return columns_values\n"
   ]
  },
  {
   "cell_type": "code",
   "execution_count": 17,
   "id": "a80d62d3-6c4d-4674-8ccd-9f0f826d80c2",
   "metadata": {
    "tags": []
   },
   "outputs": [
    {
     "name": "stdout",
     "output_type": "stream",
     "text": [
      "(14060535, 17)\n",
      "(14060535, 17)\n",
      "CPU times: user 6min 13s, sys: 10.8 s, total: 6min 24s\n",
      "Wall time: 6min 24s\n"
     ]
    },
    {
     "data": {
      "text/html": [
       "<div>\n",
       "<style scoped>\n",
       "    .dataframe tbody tr th:only-of-type {\n",
       "        vertical-align: middle;\n",
       "    }\n",
       "\n",
       "    .dataframe tbody tr th {\n",
       "        vertical-align: top;\n",
       "    }\n",
       "\n",
       "    .dataframe thead th {\n",
       "        text-align: right;\n",
       "    }\n",
       "</style>\n",
       "<table border=\"1\" class=\"dataframe\">\n",
       "  <thead>\n",
       "    <tr style=\"text-align: right;\">\n",
       "      <th></th>\n",
       "      <th>conversation_id</th>\n",
       "      <th>edit_history_tweet_ids</th>\n",
       "      <th>author_id</th>\n",
       "      <th>created_at</th>\n",
       "      <th>text</th>\n",
       "      <th>impression_count</th>\n",
       "      <th>like_count</th>\n",
       "      <th>quote_count</th>\n",
       "      <th>reply_count</th>\n",
       "      <th>retweet_count</th>\n",
       "      <th>quoted</th>\n",
       "      <th>replied_to</th>\n",
       "      <th>retweeted</th>\n",
       "      <th>in_reply_to_user_id</th>\n",
       "      <th>geo</th>\n",
       "      <th>mentions</th>\n",
       "    </tr>\n",
       "    <tr>\n",
       "      <th>id</th>\n",
       "      <th></th>\n",
       "      <th></th>\n",
       "      <th></th>\n",
       "      <th></th>\n",
       "      <th></th>\n",
       "      <th></th>\n",
       "      <th></th>\n",
       "      <th></th>\n",
       "      <th></th>\n",
       "      <th></th>\n",
       "      <th></th>\n",
       "      <th></th>\n",
       "      <th></th>\n",
       "      <th></th>\n",
       "      <th></th>\n",
       "      <th></th>\n",
       "    </tr>\n",
       "  </thead>\n",
       "  <tbody>\n",
       "    <tr>\n",
       "      <th>1465908518532182018</th>\n",
       "      <td>1465908518532182018</td>\n",
       "      <td>['1465908518532182018']</td>\n",
       "      <td>14885540</td>\n",
       "      <td>2021-12-01 05:00:00+00:00</td>\n",
       "      <td>While it's too early to know how the omicron v...</td>\n",
       "      <td>0</td>\n",
       "      <td>3</td>\n",
       "      <td>0</td>\n",
       "      <td>0</td>\n",
       "      <td>1</td>\n",
       "      <td>[]</td>\n",
       "      <td>[]</td>\n",
       "      <td>[]</td>\n",
       "      <td>None</td>\n",
       "      <td>None</td>\n",
       "      <td>[]</td>\n",
       "    </tr>\n",
       "    <tr>\n",
       "      <th>1465908518356074502</th>\n",
       "      <td>1465908518356074502</td>\n",
       "      <td>['1465908518356074502']</td>\n",
       "      <td>13719342</td>\n",
       "      <td>2021-12-01 05:00:00+00:00</td>\n",
       "      <td>According to the Associated Press, the pop sta...</td>\n",
       "      <td>0</td>\n",
       "      <td>0</td>\n",
       "      <td>0</td>\n",
       "      <td>0</td>\n",
       "      <td>1</td>\n",
       "      <td>[]</td>\n",
       "      <td>[]</td>\n",
       "      <td>[]</td>\n",
       "      <td>None</td>\n",
       "      <td>None</td>\n",
       "      <td>[]</td>\n",
       "    </tr>\n",
       "    <tr>\n",
       "      <th>1465908518804881408</th>\n",
       "      <td>1465908518804881408</td>\n",
       "      <td>['1465908518804881408']</td>\n",
       "      <td>3301782494</td>\n",
       "      <td>2021-12-01 05:00:00+00:00</td>\n",
       "      <td>RT @EileenParkTV: https://t.co/qaVghYz2Ek</td>\n",
       "      <td>0</td>\n",
       "      <td>0</td>\n",
       "      <td>0</td>\n",
       "      <td>0</td>\n",
       "      <td>3</td>\n",
       "      <td>[]</td>\n",
       "      <td>[]</td>\n",
       "      <td>['1465892768052486154']</td>\n",
       "      <td>None</td>\n",
       "      <td>None</td>\n",
       "      <td>[]</td>\n",
       "    </tr>\n",
       "    <tr>\n",
       "      <th>1465908522109992964</th>\n",
       "      <td>1465908522109992964</td>\n",
       "      <td>['1465908522109992964']</td>\n",
       "      <td>21265939</td>\n",
       "      <td>2021-12-01 05:00:01+00:00</td>\n",
       "      <td>RT @jimmytcannon: This is so fucking predatory...</td>\n",
       "      <td>0</td>\n",
       "      <td>0</td>\n",
       "      <td>0</td>\n",
       "      <td>0</td>\n",
       "      <td>10</td>\n",
       "      <td>[]</td>\n",
       "      <td>[]</td>\n",
       "      <td>['1465895325135253509']</td>\n",
       "      <td>None</td>\n",
       "      <td>None</td>\n",
       "      <td>['4705865785']</td>\n",
       "    </tr>\n",
       "    <tr>\n",
       "      <th>1465908523209011209</th>\n",
       "      <td>1465908523209011209</td>\n",
       "      <td>['1465908523209011209']</td>\n",
       "      <td>501397421</td>\n",
       "      <td>2021-12-01 05:00:01+00:00</td>\n",
       "      <td>RT @B52Malmet: Dr. Oz is not a “celebrity surg...</td>\n",
       "      <td>0</td>\n",
       "      <td>0</td>\n",
       "      <td>0</td>\n",
       "      <td>0</td>\n",
       "      <td>2112</td>\n",
       "      <td>[]</td>\n",
       "      <td>[]</td>\n",
       "      <td>['1465860012404723713']</td>\n",
       "      <td>None</td>\n",
       "      <td>None</td>\n",
       "      <td>['2876041031']</td>\n",
       "    </tr>\n",
       "    <tr>\n",
       "      <th>...</th>\n",
       "      <td>...</td>\n",
       "      <td>...</td>\n",
       "      <td>...</td>\n",
       "      <td>...</td>\n",
       "      <td>...</td>\n",
       "      <td>...</td>\n",
       "      <td>...</td>\n",
       "      <td>...</td>\n",
       "      <td>...</td>\n",
       "      <td>...</td>\n",
       "      <td>...</td>\n",
       "      <td>...</td>\n",
       "      <td>...</td>\n",
       "      <td>...</td>\n",
       "      <td>...</td>\n",
       "      <td>...</td>\n",
       "    </tr>\n",
       "    <tr>\n",
       "      <th>1509757430414000132</th>\n",
       "      <td>1509757430414000132</td>\n",
       "      <td>['1509757430414000132']</td>\n",
       "      <td>199056422</td>\n",
       "      <td>2022-04-01 04:59:56+00:00</td>\n",
       "      <td>RT @KariLake: The crowd here in Pearce, AZ is ...</td>\n",
       "      <td>0</td>\n",
       "      <td>0</td>\n",
       "      <td>0</td>\n",
       "      <td>0</td>\n",
       "      <td>359</td>\n",
       "      <td>[]</td>\n",
       "      <td>[]</td>\n",
       "      <td>['1509722039074009109']</td>\n",
       "      <td>None</td>\n",
       "      <td>None</td>\n",
       "      <td>['1082197856']</td>\n",
       "    </tr>\n",
       "    <tr>\n",
       "      <th>1509757437397458948</th>\n",
       "      <td>1509757437397458948</td>\n",
       "      <td>['1509757437397458948']</td>\n",
       "      <td>1158841136439427072</td>\n",
       "      <td>2022-04-01 04:59:57+00:00</td>\n",
       "      <td>RT @sandibachom: Reminder. They finally capped...</td>\n",
       "      <td>0</td>\n",
       "      <td>0</td>\n",
       "      <td>0</td>\n",
       "      <td>0</td>\n",
       "      <td>4472</td>\n",
       "      <td>[]</td>\n",
       "      <td>[]</td>\n",
       "      <td>['1509743297933291520']</td>\n",
       "      <td>None</td>\n",
       "      <td>None</td>\n",
       "      <td>['17027632']</td>\n",
       "    </tr>\n",
       "    <tr>\n",
       "      <th>1509757435950510080</th>\n",
       "      <td>1509757435950510080</td>\n",
       "      <td>['1509757435950510080']</td>\n",
       "      <td>3262551006</td>\n",
       "      <td>2022-04-01 04:59:57+00:00</td>\n",
       "      <td>RT @lindyli: 193 Republicans voted NO on lower...</td>\n",
       "      <td>0</td>\n",
       "      <td>0</td>\n",
       "      <td>0</td>\n",
       "      <td>0</td>\n",
       "      <td>2177</td>\n",
       "      <td>[]</td>\n",
       "      <td>[]</td>\n",
       "      <td>['1509727862475083781']</td>\n",
       "      <td>None</td>\n",
       "      <td>None</td>\n",
       "      <td>['270132611']</td>\n",
       "    </tr>\n",
       "    <tr>\n",
       "      <th>1509757436462346262</th>\n",
       "      <td>1509757436462346262</td>\n",
       "      <td>['1509757436462346262']</td>\n",
       "      <td>126075164</td>\n",
       "      <td>2022-04-01 04:59:57+00:00</td>\n",
       "      <td>RT @gnauski: Australia’s first offshore wind p...</td>\n",
       "      <td>0</td>\n",
       "      <td>0</td>\n",
       "      <td>0</td>\n",
       "      <td>0</td>\n",
       "      <td>2</td>\n",
       "      <td>[]</td>\n",
       "      <td>[]</td>\n",
       "      <td>['1509754010567573505']</td>\n",
       "      <td>None</td>\n",
       "      <td>None</td>\n",
       "      <td>['978241567239553024', '456230845']</td>\n",
       "    </tr>\n",
       "    <tr>\n",
       "      <th>1509757441134800911</th>\n",
       "      <td>1509757441134800911</td>\n",
       "      <td>['1509757441134800911']</td>\n",
       "      <td>1669325431</td>\n",
       "      <td>2022-04-01 04:59:58+00:00</td>\n",
       "      <td>RT @Strandjunker: Jared Kushner used the White...</td>\n",
       "      <td>0</td>\n",
       "      <td>0</td>\n",
       "      <td>0</td>\n",
       "      <td>0</td>\n",
       "      <td>15224</td>\n",
       "      <td>[]</td>\n",
       "      <td>[]</td>\n",
       "      <td>['1509595202008371204']</td>\n",
       "      <td>None</td>\n",
       "      <td>None</td>\n",
       "      <td>['1866938882']</td>\n",
       "    </tr>\n",
       "  </tbody>\n",
       "</table>\n",
       "<p>14060535 rows × 16 columns</p>\n",
       "</div>"
      ],
      "text/plain": [
       "                         conversation_id   edit_history_tweet_ids  \\\n",
       "id                                                                  \n",
       "1465908518532182018  1465908518532182018  ['1465908518532182018']   \n",
       "1465908518356074502  1465908518356074502  ['1465908518356074502']   \n",
       "1465908518804881408  1465908518804881408  ['1465908518804881408']   \n",
       "1465908522109992964  1465908522109992964  ['1465908522109992964']   \n",
       "1465908523209011209  1465908523209011209  ['1465908523209011209']   \n",
       "...                                  ...                      ...   \n",
       "1509757430414000132  1509757430414000132  ['1509757430414000132']   \n",
       "1509757437397458948  1509757437397458948  ['1509757437397458948']   \n",
       "1509757435950510080  1509757435950510080  ['1509757435950510080']   \n",
       "1509757436462346262  1509757436462346262  ['1509757436462346262']   \n",
       "1509757441134800911  1509757441134800911  ['1509757441134800911']   \n",
       "\n",
       "                               author_id                created_at  \\\n",
       "id                                                                   \n",
       "1465908518532182018             14885540 2021-12-01 05:00:00+00:00   \n",
       "1465908518356074502             13719342 2021-12-01 05:00:00+00:00   \n",
       "1465908518804881408           3301782494 2021-12-01 05:00:00+00:00   \n",
       "1465908522109992964             21265939 2021-12-01 05:00:01+00:00   \n",
       "1465908523209011209            501397421 2021-12-01 05:00:01+00:00   \n",
       "...                                  ...                       ...   \n",
       "1509757430414000132            199056422 2022-04-01 04:59:56+00:00   \n",
       "1509757437397458948  1158841136439427072 2022-04-01 04:59:57+00:00   \n",
       "1509757435950510080           3262551006 2022-04-01 04:59:57+00:00   \n",
       "1509757436462346262            126075164 2022-04-01 04:59:57+00:00   \n",
       "1509757441134800911           1669325431 2022-04-01 04:59:58+00:00   \n",
       "\n",
       "                                                                  text  \\\n",
       "id                                                                       \n",
       "1465908518532182018  While it's too early to know how the omicron v...   \n",
       "1465908518356074502  According to the Associated Press, the pop sta...   \n",
       "1465908518804881408          RT @EileenParkTV: https://t.co/qaVghYz2Ek   \n",
       "1465908522109992964  RT @jimmytcannon: This is so fucking predatory...   \n",
       "1465908523209011209  RT @B52Malmet: Dr. Oz is not a “celebrity surg...   \n",
       "...                                                                ...   \n",
       "1509757430414000132  RT @KariLake: The crowd here in Pearce, AZ is ...   \n",
       "1509757437397458948  RT @sandibachom: Reminder. They finally capped...   \n",
       "1509757435950510080  RT @lindyli: 193 Republicans voted NO on lower...   \n",
       "1509757436462346262  RT @gnauski: Australia’s first offshore wind p...   \n",
       "1509757441134800911  RT @Strandjunker: Jared Kushner used the White...   \n",
       "\n",
       "                    impression_count like_count quote_count reply_count  \\\n",
       "id                                                                        \n",
       "1465908518532182018                0          3           0           0   \n",
       "1465908518356074502                0          0           0           0   \n",
       "1465908518804881408                0          0           0           0   \n",
       "1465908522109992964                0          0           0           0   \n",
       "1465908523209011209                0          0           0           0   \n",
       "...                              ...        ...         ...         ...   \n",
       "1509757430414000132                0          0           0           0   \n",
       "1509757437397458948                0          0           0           0   \n",
       "1509757435950510080                0          0           0           0   \n",
       "1509757436462346262                0          0           0           0   \n",
       "1509757441134800911                0          0           0           0   \n",
       "\n",
       "                    retweet_count quoted replied_to                retweeted  \\\n",
       "id                                                                             \n",
       "1465908518532182018             1     []         []                       []   \n",
       "1465908518356074502             1     []         []                       []   \n",
       "1465908518804881408             3     []         []  ['1465892768052486154']   \n",
       "1465908522109992964            10     []         []  ['1465895325135253509']   \n",
       "1465908523209011209          2112     []         []  ['1465860012404723713']   \n",
       "...                           ...    ...        ...                      ...   \n",
       "1509757430414000132           359     []         []  ['1509722039074009109']   \n",
       "1509757437397458948          4472     []         []  ['1509743297933291520']   \n",
       "1509757435950510080          2177     []         []  ['1509727862475083781']   \n",
       "1509757436462346262             2     []         []  ['1509754010567573505']   \n",
       "1509757441134800911         15224     []         []  ['1509595202008371204']   \n",
       "\n",
       "                    in_reply_to_user_id   geo  \\\n",
       "id                                              \n",
       "1465908518532182018                None  None   \n",
       "1465908518356074502                None  None   \n",
       "1465908518804881408                None  None   \n",
       "1465908522109992964                None  None   \n",
       "1465908523209011209                None  None   \n",
       "...                                 ...   ...   \n",
       "1509757430414000132                None  None   \n",
       "1509757437397458948                None  None   \n",
       "1509757435950510080                None  None   \n",
       "1509757436462346262                None  None   \n",
       "1509757441134800911                None  None   \n",
       "\n",
       "                                                mentions  \n",
       "id                                                        \n",
       "1465908518532182018                                   []  \n",
       "1465908518356074502                                   []  \n",
       "1465908518804881408                                   []  \n",
       "1465908522109992964                       ['4705865785']  \n",
       "1465908523209011209                       ['2876041031']  \n",
       "...                                                  ...  \n",
       "1509757430414000132                       ['1082197856']  \n",
       "1509757437397458948                         ['17027632']  \n",
       "1509757435950510080                        ['270132611']  \n",
       "1509757436462346262  ['978241567239553024', '456230845']  \n",
       "1509757441134800911                       ['1866938882']  \n",
       "\n",
       "[14060535 rows x 16 columns]"
      ]
     },
     "execution_count": 17,
     "metadata": {},
     "output_type": "execute_result"
    }
   ],
   "source": [
    "%%time\n",
    "tdf = pd.DataFrame([get_columns(tw) for tw in tweets],  columns=column_names, dtype=str)\n",
    "print(tdf.shape)\n",
    "tdf.drop_duplicates(subset=\"id\", inplace=True)\n",
    "print(tdf.shape)\n",
    "tdf.set_index(\"id\", inplace=True)\n",
    "tdf[\"created_at\"] = tdf[\"created_at\"].apply(lambda x: datetime.datetime.strptime(x, \"%Y-%m-%dT%H:%M:%S.%f%z\"))\n",
    "tdf.sort_values(\"created_at\", inplace=True)\n",
    "tdf"
   ]
  },
  {
   "cell_type": "code",
   "execution_count": 18,
   "id": "17a06db0-d0dc-4530-a815-3d9d5d23ecad",
   "metadata": {
    "tags": []
   },
   "outputs": [
    {
     "data": {
      "text/plain": [
       "(14060535, 16)"
      ]
     },
     "execution_count": 18,
     "metadata": {},
     "output_type": "execute_result"
    }
   ],
   "source": [
    "tdf.shape"
   ]
  },
  {
   "cell_type": "code",
   "execution_count": 19,
   "id": "d5695723-870f-4702-a721-44b1ab9829b2",
   "metadata": {
    "tags": []
   },
   "outputs": [
    {
     "name": "stdout",
     "output_type": "stream",
     "text": [
      "CPU times: user 3min 20s, sys: 3.6 s, total: 3min 23s\n",
      "Wall time: 3min 56s\n"
     ]
    }
   ],
   "source": [
    "%%time\n",
    "tdf.to_csv(\"all_data_df_v1.csv\")"
   ]
  },
  {
   "cell_type": "code",
   "execution_count": 20,
   "id": "668ce44e-4d95-4786-a899-62a29ffee5c0",
   "metadata": {
    "tags": []
   },
   "outputs": [],
   "source": [
    "tdf[\"text\"].to_csv(\"all_text_df_v1.csv\" ,header=False, index=False)"
   ]
  },
  {
   "cell_type": "code",
   "execution_count": null,
   "id": "9b13253f-fd62-426a-a74f-917eece70547",
   "metadata": {},
   "outputs": [],
   "source": []
  }
 ],
 "metadata": {
  "kernelspec": {
   "display_name": "conda_python3",
   "language": "python",
   "name": "conda_python3"
  },
  "language_info": {
   "codemirror_mode": {
    "name": "ipython",
    "version": 3
   },
   "file_extension": ".py",
   "mimetype": "text/x-python",
   "name": "python",
   "nbconvert_exporter": "python",
   "pygments_lexer": "ipython3",
   "version": "3.10.13"
  }
 },
 "nbformat": 4,
 "nbformat_minor": 5
}
